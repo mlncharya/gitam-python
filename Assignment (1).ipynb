{
 "cells": [
  {
   "cell_type": "markdown",
   "metadata": {},
   "source": [
    "# Assignment 1 - 9/7/19"
   ]
  },
  {
   "cell_type": "code",
   "execution_count": null,
   "metadata": {},
   "outputs": [],
   "source": [
    "# 1) [1,4,5,6,9] - 14569\n",
    "def convert(s):\n",
    "    x=0\n",
    "    for i in range(len(s)):\n",
    "        x=x*10+s[i]\n",
    "    return x\n",
    "s=[1,4,5,6,9]\n",
    "convert(s)"
   ]
  },
  {
   "cell_type": "code",
   "execution_count": 3,
   "metadata": {},
   "outputs": [
    {
     "data": {
      "text/plain": [
       "46"
      ]
     },
     "execution_count": 3,
     "metadata": {},
     "output_type": "execute_result"
    }
   ],
   "source": [
    "# 2) [1,4,5,6,9]  - 46 (Consider only even numbers from list)\n",
    "def even(s):\n",
    "    x=0\n",
    "    for i in range(len(s)):\n",
    "        if s[i]%2==0:\n",
    "            x=x*10+s[i]\n",
    "    return x\n",
    "s=[1,4,5,6,9]\n",
    "even(s)"
   ]
  },
  {
   "cell_type": "code",
   "execution_count": 4,
   "metadata": {},
   "outputs": [
    {
     "data": {
      "text/plain": [
       "[1, 4, 3, 16, 5]"
      ]
     },
     "execution_count": 4,
     "metadata": {},
     "output_type": "execute_result"
    }
   ],
   "source": [
    "# 3. [1,2,3,4,5] - [1,4,3,16,5] (Consider only even number and square of it)\n",
    "def square(s):\n",
    "    for i in range (len(s)):\n",
    "        if s[i]%2==0:\n",
    "            s[i]=s[i]**2\n",
    "    return s\n",
    "s=[1,2,3,4,5]\n",
    "square(s)"
   ]
  },
  {
   "cell_type": "code",
   "execution_count": 5,
   "metadata": {},
   "outputs": [
    {
     "data": {
      "text/plain": [
       "[15, 34, 31, 28, 4]"
      ]
     },
     "execution_count": 5,
     "metadata": {},
     "output_type": "execute_result"
    }
   ],
   "source": [
    "# 4. [15,19,12,16,4] - [15,34,31,28,4] (Need to add previous number to current number)\n",
    "def add(s):\n",
    "    k=[]\n",
    "    for i in range (len(s)):  \n",
    "        if i==0 or i==len(s)-1:\n",
    "                k.append(s[i])\n",
    "        else:\n",
    "            k.append(s[i]+s[i-1])\n",
    "    return k \n",
    "s=[15,19,12,16,4]\n",
    "add(s)"
   ]
  },
  {
   "cell_type": "markdown",
   "metadata": {},
   "source": [
    "# Assignment 2 - 10/7/19"
   ]
  },
  {
   "cell_type": "code",
   "execution_count": 7,
   "metadata": {},
   "outputs": [
    {
     "name": "stdout",
     "output_type": "stream",
     "text": [
      "3 2 1 1 0 "
     ]
    }
   ],
   "source": [
    " # Python 3 Program to print Fibonacci \n",
    "# series in reverse order \n",
    "  \n",
    "def reverseFibonacci(n): \n",
    "   \n",
    "    a = [0] * n  \n",
    "  \n",
    "    # assigning first and second elements \n",
    "    a[0] = 0 \n",
    "    a[1] = 1 \n",
    "  \n",
    "    for i in range(2, n):   \n",
    "  \n",
    "        # storing sum in the \n",
    "        # preceding location \n",
    "        a[i] = a[i - 2] + a[i - 1]  \n",
    "       \n",
    "  \n",
    "    for i in range(n - 1, -1 , -1):   \n",
    "  \n",
    "        # printing array in \n",
    "        # reverse order \n",
    "        print(a[i],end=\" \")  \n",
    "       \n",
    "   \n",
    "  \n",
    "# Driver function \n",
    "n = 5 \n",
    "reverseFibonacci(n) \n"
   ]
  },
  {
   "cell_type": "code",
   "execution_count": 9,
   "metadata": {},
   "outputs": [
    {
     "name": "stdout",
     "output_type": "stream",
     "text": [
      "89 55 34 21 13 8 5 3 2 1 1 0 "
     ]
    }
   ],
   "source": [
    " # Python 3 Program to print Fibonacci \n",
    "# series in reverse order \n",
    "  \n",
    "def reverseFibonacci(n): \n",
    "   \n",
    "    a = [0] * n  \n",
    "  \n",
    "    # assigning first and second elements \n",
    "    a[0] = 0 \n",
    "    a[1] = 1 \n",
    "  \n",
    "    for i in range(2, n):   \n",
    "  \n",
    "        # storing sum in the \n",
    "        # preceding location \n",
    "        a[i] = a[i - 2] + a[i - 1]  \n",
    "       \n",
    "  \n",
    "    for i in range(n - 1, -1 , -1):   \n",
    "  \n",
    "        # printing array in \n",
    "        # reverse order \n",
    "        print(a[i],end=\" \")  \n",
    "       \n",
    "   \n",
    "  \n",
    "# Driver function \n",
    "n = 12 \n",
    "reverseFibonacci(n) \n"
   ]
  },
  {
   "cell_type": "code",
   "execution_count": 10,
   "metadata": {},
   "outputs": [
    {
     "name": "stdout",
     "output_type": "stream",
     "text": [
      "2\n",
      "1024\n"
     ]
    }
   ],
   "source": [
    "# 6\n",
    "def findNthTerm(n): \n",
    "   if n % 2 == 0: \n",
    "       n //= 2\n",
    "       print(3 ** (n - 1)) \n",
    "   else: \n",
    "       n = (n // 2) + 1\n",
    "       print(2 ** (n - 1)) \n",
    "if __name__=='__main__': \n",
    "   N = 3\n",
    "   findNthTerm(N) \n",
    "   N = 21\n",
    "   findNthTerm(N) "
   ]
  },
  {
   "cell_type": "code",
   "execution_count": 16,
   "metadata": {},
   "outputs": [
    {
     "name": "stdout",
     "output_type": "stream",
     "text": [
      "Hbontch\n"
     ]
    }
   ],
   "source": [
    "# 8\n",
    "def removeChar(s, c) : \n",
    "   counts = s.count(c) \n",
    "   s = list(s) \n",
    "   while counts : \n",
    "       s.remove(c) \n",
    "       counts -= 1\n",
    "   s = '' . join(s)       \n",
    "   print(s) \n",
    "if __name__ == '__main__' :      \n",
    "   s = \"Hebeontech\"\n",
    "   removeChar(s,'e') "
   ]
  },
  {
   "cell_type": "code",
   "execution_count": 17,
   "metadata": {},
   "outputs": [
    {
     "name": "stdout",
     "output_type": "stream",
     "text": [
      "TESTING"
     ]
    }
   ],
   "source": [
    "#5\n",
    "def wordUpperCase(s):\n",
    "   spaceCnt = 0\n",
    "   for x in range(len(s)):\n",
    "       if ord(s[x]) == 32:\n",
    "           spaceCnt += 1\n",
    "       if spaceCnt == 1:\n",
    "           if ord(s[x]) >= 65 and ord(s[x]) <= 90:\n",
    "               print(s[x],end=\"\")\n",
    "           elif ord(s[x]) >= 97 and ord(s[x]) <= 122:\n",
    "               print(chr(ord(s[x])-32),end=\"\")\n",
    "       if spaceCnt == 2:\n",
    "           break\n",
    "   return\n",
    "wordUpperCase('application Testing')"
   ]
  },
  {
   "cell_type": "code",
   "execution_count": 19,
   "metadata": {},
   "outputs": [
    {
     "name": "stdout",
     "output_type": "stream",
     "text": [
      "TEST"
     ]
    }
   ],
   "source": [
    "#5\n",
    "def wordUpperCase(s):\n",
    "   spaceCnt = 0\n",
    "   for x in range(len(s)):\n",
    "       if ord(s[x]) == 32:\n",
    "           spaceCnt += 1\n",
    "       if spaceCnt == 1:\n",
    "           if ord(s[x]) >= 65 and ord(s[x]) <= 90:\n",
    "               print(s[x],end=\"\")\n",
    "           elif ord(s[x]) >= 97 and ord(s[x]) <= 122:\n",
    "               print(chr(ord(s[x])-32),end=\"\")\n",
    "       if spaceCnt == 2:\n",
    "           break\n",
    "   return\n",
    "wordUpperCase('anil Test app')"
   ]
  },
  {
   "cell_type": "code",
   "execution_count": null,
   "metadata": {},
   "outputs": [],
   "source": []
  },
  {
   "cell_type": "code",
   "execution_count": null,
   "metadata": {},
   "outputs": [],
   "source": []
  },
  {
   "cell_type": "code",
   "execution_count": null,
   "metadata": {},
   "outputs": [],
   "source": []
  },
  {
   "cell_type": "code",
   "execution_count": null,
   "metadata": {},
   "outputs": [],
   "source": []
  },
  {
   "cell_type": "code",
   "execution_count": null,
   "metadata": {},
   "outputs": [],
   "source": []
  },
  {
   "cell_type": "code",
   "execution_count": null,
   "metadata": {},
   "outputs": [],
   "source": []
  }
 ],
 "metadata": {
  "kernelspec": {
   "display_name": "Python 3",
   "language": "python",
   "name": "python3"
  },
  "language_info": {
   "codemirror_mode": {
    "name": "ipython",
    "version": 3
   },
   "file_extension": ".py",
   "mimetype": "text/x-python",
   "name": "python",
   "nbconvert_exporter": "python",
   "pygments_lexer": "ipython3",
   "version": "3.7.3"
  }
 },
 "nbformat": 4,
 "nbformat_minor": 2
}

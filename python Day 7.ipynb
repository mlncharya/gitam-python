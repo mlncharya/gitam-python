{
 "cells": [
  {
   "cell_type": "code",
   "execution_count": 3,
   "metadata": {},
   "outputs": [
    {
     "data": {
      "text/plain": [
       "True"
      ]
     },
     "execution_count": 3,
     "metadata": {},
     "output_type": "execute_result"
    }
   ],
   "source": [
    "# Given Number is Prime Number or not\n",
    "def isprime( n ):\n",
    "    flag = True\n",
    "    for i in range(2,n//2+1):\n",
    "        if n % i == 0:\n",
    "            flag = False\n",
    "            return flag\n",
    "    return flag\n",
    "isprime(11)\n",
    "            "
   ]
  },
  {
   "cell_type": "code",
   "execution_count": 4,
   "metadata": {},
   "outputs": [
    {
     "data": {
      "text/plain": [
       "4"
      ]
     },
     "execution_count": 4,
     "metadata": {},
     "output_type": "execute_result"
    }
   ],
   "source": [
    "# Function to find prime number count from 1 to n\n",
    "# 10 -- 4(2,3,5,7)\n",
    "def primecount(n):\n",
    "    cnt = 0\n",
    "    for a in range(2,n+1):\n",
    "        k=0\n",
    "        for i in range(2,a//2+1):\n",
    "            if a % i == 0:\n",
    "                k = k + 1\n",
    "        if(k<=0):\n",
    "            cnt = cnt + 1\n",
    "    return cnt\n",
    "primecount(10)"
   ]
  },
  {
   "cell_type": "code",
   "execution_count": 8,
   "metadata": {},
   "outputs": [
    {
     "name": "stdout",
     "output_type": "stream",
     "text": [
      "Yes\n",
      "no\n"
     ]
    }
   ],
   "source": [
    "# Individual Digit Factorial sum of given Number\n",
    "def factorial(n):\n",
    "    fact = 1\n",
    "    for i in range(2,n+1):\n",
    "        fact *= i\n",
    "    return fact\n",
    "def digitfactsum(n):\n",
    "    sum = 0\n",
    "    buffer =n\n",
    "    while n != 0 :\n",
    "        r = n % 10\n",
    "        sum += factorial(r)\n",
    "        n = n // 10\n",
    "    if sum == buffer:\n",
    "        return \"Yes\"\n",
    "    else:\n",
    "        return \"no\"\n",
    "    return\n",
    "print(digitfactsum(145))\n",
    "print(digitfactsum(123))"
   ]
  },
  {
   "cell_type": "code",
   "execution_count": 14,
   "metadata": {},
   "outputs": [
    {
     "data": {
      "text/plain": [
       "9"
      ]
     },
     "execution_count": 14,
     "metadata": {},
     "output_type": "execute_result"
    }
   ],
   "source": [
    "# Function to return the count of palindrome\n",
    "def ispalindrome(n):\n",
    "    rev = 0\n",
    "    buffer = n\n",
    "    while n != 0:\n",
    "        r = n % 10\n",
    "        rev = rev * 10 + r\n",
    "        n = n // 10\n",
    "    if rev == buffer:\n",
    "        return True\n",
    "    else:\n",
    "        return False\n",
    "    return\n",
    "\n",
    "def countpalindrome(lb,ub):\n",
    "    cnt = 0\n",
    "    while lb != ub :\n",
    "        # Implement\n",
    "        if ispalindrome(lb) == True:\n",
    "            cnt = cnt + 1\n",
    "        lb = lb + 1\n",
    "    return cnt\n",
    "countpalindrome(1,10)\n",
    "        "
   ]
  },
  {
   "cell_type": "code",
   "execution_count": 19,
   "metadata": {},
   "outputs": [
    {
     "name": "stdout",
     "output_type": "stream",
     "text": [
      "6 \n",
      "6 28 496 8128 \n"
     ]
    }
   ],
   "source": [
    "# Function to generate the Perfect Number in a given range\n",
    "def factorslist(n):\n",
    "    sum = 0\n",
    "    for i in range(1,n//2+1):\n",
    "        if n % i == 0:\n",
    "            sum = sum + i\n",
    "    return sum\n",
    "def isperfect(n):\n",
    "    if factorslist(n) == n:\n",
    "        return True\n",
    "    return False\n",
    "def generateperfect(lb,ub):\n",
    "    for x in range(lb,ub+1):\n",
    "        if isperfect(x):\n",
    "            print(x,end = \" \")\n",
    "    print()\n",
    "    return\n",
    "\n",
    "generateperfect(1,10)\n",
    "generateperfect(1,10000)"
   ]
  },
  {
   "cell_type": "code",
   "execution_count": 21,
   "metadata": {},
   "outputs": [
    {
     "name": "stdout",
     "output_type": "stream",
     "text": [
      "P T "
     ]
    }
   ],
   "source": [
    "# print upper case charechter in string\n",
    "def printupper(x):\n",
    "    for i in range(len(x)):\n",
    "        if ord(x[i])>= 65 and ord(x[i])<= 90:\n",
    "            print(x[i],end = \" \")\n",
    "    return\n",
    "printupper(\"PyThon\")\n",
    "        "
   ]
  },
  {
   "cell_type": "code",
   "execution_count": 30,
   "metadata": {},
   "outputs": [
    {
     "name": "stdout",
     "output_type": "stream",
     "text": [
      "same count\n",
      "programming\n"
     ]
    }
   ],
   "source": [
    "# Function to print \"python\" if the count of\n",
    "# upper and lower case is same\n",
    "# print \"programming\" if not same\n",
    "# Example : PyThOn -- 3 P T O (upper case) -- same count\n",
    "#                     3 y h n (lower case) \n",
    "# PytHon -- P H (2)\n",
    "#        -- y t o n (4) - programming\n",
    "def findcount(str):\n",
    "    cntupper = 0\n",
    "    cntlower = 0\n",
    "    for x in range(len(str)):\n",
    "        if ord(str[x]) >= 65 and ord(str[x]) <= 90:\n",
    "            cntupper = cntupper + 1\n",
    "        elif ord(str[x]) >= 97 and ord(str[x]) <= 122:\n",
    "            cntlower = cntlower + 1\n",
    "    if cntupper == cntlower:\n",
    "        return \"same count\"\n",
    "    else:\n",
    "        return \"programming\"\n",
    "    \n",
    "    \n",
    "    return\n",
    "\n",
    "print(findcount('PyThOn')) # same count\n",
    "print(findcount('PytHon')) # programming"
   ]
  },
  {
   "cell_type": "code",
   "execution_count": 31,
   "metadata": {},
   "outputs": [
    {
     "name": "stdout",
     "output_type": "stream",
     "text": [
      "1 8 8 9 "
     ]
    }
   ],
   "source": [
    "# Extract digits from given string\n",
    "# Example :\n",
    "# Input : Appli1cat8ion89\n",
    "# Output : 1 8 8 9\n",
    "def extractdigits(str):\n",
    "    for x in range(len(str)):\n",
    "        if ord(str[x]) >= 48 and ord(str[x]) <= 57:\n",
    "            print(str[x],end = \" \")\n",
    "    return\n",
    "extractdigits(\"Appli1cat8ion89\") # 1 8 8 9"
   ]
  },
  {
   "cell_type": "code",
   "execution_count": 35,
   "metadata": {},
   "outputs": [
    {
     "data": {
      "text/plain": [
       "26"
      ]
     },
     "execution_count": 35,
     "metadata": {},
     "output_type": "execute_result"
    }
   ],
   "source": [
    "# Function to return the sum of the digits in a given string\n",
    "# Example :\n",
    "# Input : Appli1cat8ion89\n",
    "# Output : 26 (1+8+8+9)\n",
    "def sumofdigits(str):\n",
    "    sum = 0\n",
    "    for x in range(len(str)):\n",
    "        if ord(str[x]) >= 48 and ord(str[x]) <= 57:\n",
    "            sum = sum + (ord(str[x])-48)\n",
    "    return sum\n",
    "sumofdigits(\"Appli1cat8ion89\")\n",
    "        "
   ]
  },
  {
   "cell_type": "code",
   "execution_count": 36,
   "metadata": {},
   "outputs": [
    {
     "data": {
      "text/plain": [
       "16"
      ]
     },
     "execution_count": 36,
     "metadata": {},
     "output_type": "execute_result"
    }
   ],
   "source": [
    "# Function to return the sum of the even digits in a given string\n",
    "# Example :\n",
    "# Input : Appli1cat8ion89\n",
    "# Output : 16(8+8)\n",
    "def sumofevendigits(str):\n",
    "    sum = 0\n",
    "    for x in range(len(str)):\n",
    "        if ord(str[x]) >= 48 and ord(str[x]) <= 57:\n",
    "            if (ord(str[x])-48) % 2 == 0:\n",
    "                sum = sum + (ord(str[x])-48) \n",
    "    return sum\n",
    "sumofevendigits(\"Appli1cat8ion89\")"
   ]
  },
  {
   "cell_type": "code",
   "execution_count": 40,
   "metadata": {},
   "outputs": [
    {
     "name": "stdout",
     "output_type": "stream",
     "text": [
      "M A D E "
     ]
    }
   ],
   "source": [
    "# Functon to print the specific word in upper case\n",
    "# Example :\n",
    "# Input : python Made Easy\n",
    "# Output : MADE\n",
    "# Input : learn Python proGramming\n",
    "# Output : PYTHON\n",
    "def worduppercase(s):\n",
    "    spacecnt = 0\n",
    "    for x in range(len(s)):\n",
    "        \n",
    "        if ord(s[x]) == 32:\n",
    "            spacecnt += 1 # spacecnt = spacecnt + 1\n",
    "        if spacecnt == 1:\n",
    "            if ord(s[x]) >= 65 and ord(s[x]) <= 90:\n",
    "                print(s[x],end = \" \")\n",
    "            elif ord(s[x]) >= 97 and ord(s[x]) <= 122:\n",
    "                print(chr(ord(s[x])-32),end = \" \")\n",
    "        if spacecnt == 2:\n",
    "            break\n",
    "    return\n",
    "worduppercase(\"Python Made Easy\") # MADE"
   ]
  },
  {
   "cell_type": "code",
   "execution_count": null,
   "metadata": {},
   "outputs": [],
   "source": []
  },
  {
   "cell_type": "code",
   "execution_count": null,
   "metadata": {},
   "outputs": [],
   "source": []
  },
  {
   "cell_type": "code",
   "execution_count": null,
   "metadata": {},
   "outputs": [],
   "source": []
  },
  {
   "cell_type": "code",
   "execution_count": null,
   "metadata": {},
   "outputs": [],
   "source": []
  },
  {
   "cell_type": "code",
   "execution_count": null,
   "metadata": {},
   "outputs": [],
   "source": []
  },
  {
   "cell_type": "code",
   "execution_count": null,
   "metadata": {},
   "outputs": [],
   "source": []
  }
 ],
 "metadata": {
  "kernelspec": {
   "display_name": "Python 3",
   "language": "python",
   "name": "python3"
  },
  "language_info": {
   "codemirror_mode": {
    "name": "ipython",
    "version": 3
   },
   "file_extension": ".py",
   "mimetype": "text/x-python",
   "name": "python",
   "nbconvert_exporter": "python",
   "pygments_lexer": "ipython3",
   "version": "3.7.3"
  }
 },
 "nbformat": 4,
 "nbformat_minor": 2
}
